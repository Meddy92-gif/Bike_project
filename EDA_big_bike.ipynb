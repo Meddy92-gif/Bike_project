{
 "cells": [
  {
   "cell_type": "code",
   "execution_count": 1,
   "metadata": {},
   "outputs": [],
   "source": [
    "import numpy as np\n",
    "import pandas as pd\n",
    "import matplotlib as plt \n",
    "import matplotlib.pyplot as plt\n",
    "import matplotlib.dates as md\n",
    "import seaborn as sns\n",
    "from scipy import stats\n",
    "import matplotlib.ticker as ticker\n",
    "import holidays\n",
    "from datetime import date \n",
    "import datetime\n",
    "\n",
    "\n",
    "\n"
   ]
  },
  {
   "cell_type": "code",
   "execution_count": 2,
   "metadata": {},
   "outputs": [],
   "source": [
    "bbp= pd.read_csv('CBS_2021-2023_Full_new.csv', nrows=10000, sep=',')"
   ]
  },
  {
   "cell_type": "code",
   "execution_count": 33,
   "metadata": {},
   "outputs": [],
   "source": [
    "chunk_size = 100000\n",
    "\n",
    "# Create chunks by splitting the DataFrame\n",
    "chunks = [bbp[i:i+chunk_size] for i in range(0, bbp.shape[0], chunk_size)]\n",
    "\n",
    "# Now you can iterate over the chunks and process them\n",
    "for chunk in chunks:\n",
    "    # Perform operations on each chunk\n",
    "    chunk.head()  # Example operation"
   ]
  },
  {
   "cell_type": "code",
   "execution_count": 15,
   "metadata": {},
   "outputs": [
    {
     "data": {
      "text/html": [
       "<div>\n",
       "<style scoped>\n",
       "    .dataframe tbody tr th:only-of-type {\n",
       "        vertical-align: middle;\n",
       "    }\n",
       "\n",
       "    .dataframe tbody tr th {\n",
       "        vertical-align: top;\n",
       "    }\n",
       "\n",
       "    .dataframe thead th {\n",
       "        text-align: right;\n",
       "    }\n",
       "</style>\n",
       "<table border=\"1\" class=\"dataframe\">\n",
       "  <thead>\n",
       "    <tr style=\"text-align: right;\">\n",
       "      <th></th>\n",
       "      <th>ride_id</th>\n",
       "      <th>rideable_type</th>\n",
       "      <th>started_at</th>\n",
       "      <th>ended_at</th>\n",
       "      <th>start_station_name</th>\n",
       "      <th>start_station_id</th>\n",
       "      <th>end_station_name</th>\n",
       "      <th>end_station_id</th>\n",
       "      <th>start_lat</th>\n",
       "      <th>start_lng</th>\n",
       "      <th>end_lat</th>\n",
       "      <th>end_lng</th>\n",
       "      <th>member_casual</th>\n",
       "      <th>ride_duration</th>\n",
       "      <th>biketype</th>\n",
       "    </tr>\n",
       "  </thead>\n",
       "  <tbody>\n",
       "    <tr>\n",
       "      <th>0</th>\n",
       "      <td>5CB9DFCECF79AF84</td>\n",
       "      <td>1</td>\n",
       "      <td>2021-01-01 00:08:33</td>\n",
       "      <td>2021-01-01 00:33:53</td>\n",
       "      <td>Maine Ave &amp; 9th St SW</td>\n",
       "      <td>31646.0</td>\n",
       "      <td>Rosslyn Metro / Wilson Blvd &amp; Ft Myer Dr</td>\n",
       "      <td>31015.0</td>\n",
       "      <td>38.880440</td>\n",
       "      <td>-77.025238</td>\n",
       "      <td>38.894600</td>\n",
       "      <td>-77.072304</td>\n",
       "      <td>0</td>\n",
       "      <td>0 days 00:25:20</td>\n",
       "      <td>classic_bike</td>\n",
       "    </tr>\n",
       "    <tr>\n",
       "      <th>1</th>\n",
       "      <td>629E059504606547</td>\n",
       "      <td>0</td>\n",
       "      <td>2021-01-01 00:13:43</td>\n",
       "      <td>2021-01-01 00:29:34</td>\n",
       "      <td>10th &amp; U St NW</td>\n",
       "      <td>31111.0</td>\n",
       "      <td>0</td>\n",
       "      <td>0.0</td>\n",
       "      <td>38.917194</td>\n",
       "      <td>-77.025894</td>\n",
       "      <td>38.959999</td>\n",
       "      <td>-77.019997</td>\n",
       "      <td>1</td>\n",
       "      <td>0 days 00:15:51</td>\n",
       "      <td>electric_bike</td>\n",
       "    </tr>\n",
       "    <tr>\n",
       "      <th>2</th>\n",
       "      <td>E74069873161EE33</td>\n",
       "      <td>0</td>\n",
       "      <td>2021-01-01 00:14:32</td>\n",
       "      <td>2021-01-01 00:28:45</td>\n",
       "      <td>17th &amp; Corcoran St NW</td>\n",
       "      <td>31214.0</td>\n",
       "      <td>14th &amp; Belmont St NW</td>\n",
       "      <td>31119.0</td>\n",
       "      <td>38.912136</td>\n",
       "      <td>-77.038567</td>\n",
       "      <td>38.920872</td>\n",
       "      <td>-77.031693</td>\n",
       "      <td>0</td>\n",
       "      <td>0 days 00:14:13</td>\n",
       "      <td>electric_bike</td>\n",
       "    </tr>\n",
       "    <tr>\n",
       "      <th>3</th>\n",
       "      <td>91F95E512CABC46A</td>\n",
       "      <td>1</td>\n",
       "      <td>2021-01-01 00:15:45</td>\n",
       "      <td>2021-01-01 00:21:20</td>\n",
       "      <td>Wilson Blvd. &amp; N. Vermont St.</td>\n",
       "      <td>31926.0</td>\n",
       "      <td>Wilson Blvd. &amp; N. Vermont St.</td>\n",
       "      <td>31926.0</td>\n",
       "      <td>38.879478</td>\n",
       "      <td>-77.114563</td>\n",
       "      <td>38.879478</td>\n",
       "      <td>-77.114563</td>\n",
       "      <td>0</td>\n",
       "      <td>0 days 00:05:35</td>\n",
       "      <td>classic_bike</td>\n",
       "    </tr>\n",
       "    <tr>\n",
       "      <th>4</th>\n",
       "      <td>DA46A05139C0EA2F</td>\n",
       "      <td>1</td>\n",
       "      <td>2021-01-01 00:17:46</td>\n",
       "      <td>2021-01-01 00:21:00</td>\n",
       "      <td>11th &amp; Park Rd NW</td>\n",
       "      <td>31651.0</td>\n",
       "      <td>14th &amp; Newton St NW</td>\n",
       "      <td>31649.0</td>\n",
       "      <td>38.931320</td>\n",
       "      <td>-77.028244</td>\n",
       "      <td>38.931992</td>\n",
       "      <td>-77.032959</td>\n",
       "      <td>0</td>\n",
       "      <td>0 days 00:03:14</td>\n",
       "      <td>classic_bike</td>\n",
       "    </tr>\n",
       "  </tbody>\n",
       "</table>\n",
       "</div>"
      ],
      "text/plain": [
       "            ride_id  rideable_type          started_at            ended_at  \\\n",
       "0  5CB9DFCECF79AF84              1 2021-01-01 00:08:33 2021-01-01 00:33:53   \n",
       "1  629E059504606547              0 2021-01-01 00:13:43 2021-01-01 00:29:34   \n",
       "2  E74069873161EE33              0 2021-01-01 00:14:32 2021-01-01 00:28:45   \n",
       "3  91F95E512CABC46A              1 2021-01-01 00:15:45 2021-01-01 00:21:20   \n",
       "4  DA46A05139C0EA2F              1 2021-01-01 00:17:46 2021-01-01 00:21:00   \n",
       "\n",
       "              start_station_name  start_station_id  \\\n",
       "0          Maine Ave & 9th St SW           31646.0   \n",
       "1                 10th & U St NW           31111.0   \n",
       "2          17th & Corcoran St NW           31214.0   \n",
       "3  Wilson Blvd. & N. Vermont St.           31926.0   \n",
       "4              11th & Park Rd NW           31651.0   \n",
       "\n",
       "                           end_station_name  end_station_id  start_lat  \\\n",
       "0  Rosslyn Metro / Wilson Blvd & Ft Myer Dr         31015.0  38.880440   \n",
       "1                                         0             0.0  38.917194   \n",
       "2                      14th & Belmont St NW         31119.0  38.912136   \n",
       "3             Wilson Blvd. & N. Vermont St.         31926.0  38.879478   \n",
       "4                       14th & Newton St NW         31649.0  38.931320   \n",
       "\n",
       "   start_lng    end_lat    end_lng  member_casual   ride_duration  \\\n",
       "0 -77.025238  38.894600 -77.072304              0 0 days 00:25:20   \n",
       "1 -77.025894  38.959999 -77.019997              1 0 days 00:15:51   \n",
       "2 -77.038567  38.920872 -77.031693              0 0 days 00:14:13   \n",
       "3 -77.114563  38.879478 -77.114563              0 0 days 00:05:35   \n",
       "4 -77.028244  38.931992 -77.032959              0 0 days 00:03:14   \n",
       "\n",
       "        biketype  \n",
       "0   classic_bike  \n",
       "1  electric_bike  \n",
       "2  electric_bike  \n",
       "3   classic_bike  \n",
       "4   classic_bike  "
      ]
     },
     "execution_count": 15,
     "metadata": {},
     "output_type": "execute_result"
    }
   ],
   "source": [
    "bbp.head()"
   ]
  },
  {
   "cell_type": "code",
   "execution_count": 16,
   "metadata": {},
   "outputs": [],
   "source": [
    "bbp['ride_duration'] = pd.to_timedelta(bbp['ride_duration'])\n"
   ]
  },
  {
   "cell_type": "code",
   "execution_count": 19,
   "metadata": {},
   "outputs": [],
   "source": [
    "total_duration_by_bike = bbp.groupby('biketype')['ride_duration'].sum()\n"
   ]
  },
  {
   "cell_type": "code",
   "execution_count": 21,
   "metadata": {},
   "outputs": [],
   "source": [
    "total_duration_by_bike_minutes = total_duration_by_bike.dt.total_seconds() / 60\n"
   ]
  },
  {
   "cell_type": "code",
   "execution_count": 29,
   "metadata": {},
   "outputs": [
    {
     "data": {
      "image/png": "[encoded data removed]",
      "text/plain": [
       "<Figure size 800x500 with 1 Axes>"
      ]
     },
     "metadata": {},
     "output_type": "display_data"
    }
   ],
   "source": [
    "plt.figure(figsize=(8, 5))\n",
    "total_duration_by_bike_minutes.plot(kind='bar', color='skyblue')\n",
    "\n",
    "# Add labels and title\n",
    "plt.ylabel('Total Ride Duration (Minutes)')\n",
    "plt.title('Total Ride Duration by Bike Type')\n",
    "\n",
    "# Show the plot\n",
    "plt.xticks(rotation=45)\n",
    "plt.show()"
   ]
  },
  {
   "cell_type": "code",
   "execution_count": null,
   "metadata": {},
   "outputs": [],
   "source": [
    "plt.figure(figsize=(8, 5))\n",
    "total_duration_by_bike_minutes.plot(kind='bar', color='skyblue')\n",
    "\n"
   ]
  },
  {
   "cell_type": "code",
   "execution_count": 25,
   "metadata": {},
   "outputs": [
    {
     "data": {
      "text/html": [
       "<div>\n",
       "<style scoped>\n",
       "    .dataframe tbody tr th:only-of-type {\n",
       "        vertical-align: middle;\n",
       "    }\n",
       "\n",
       "    .dataframe tbody tr th {\n",
       "        vertical-align: top;\n",
       "    }\n",
       "\n",
       "    .dataframe thead th {\n",
       "        text-align: right;\n",
       "    }\n",
       "</style>\n",
       "<table border=\"1\" class=\"dataframe\">\n",
       "  <thead>\n",
       "    <tr style=\"text-align: right;\">\n",
       "      <th></th>\n",
       "      <th>ride_id</th>\n",
       "      <th>rideable_type</th>\n",
       "      <th>started_at</th>\n",
       "      <th>ended_at</th>\n",
       "      <th>start_station_name</th>\n",
       "      <th>start_station_id</th>\n",
       "      <th>end_station_name</th>\n",
       "      <th>end_station_id</th>\n",
       "      <th>start_lat</th>\n",
       "      <th>start_lng</th>\n",
       "      <th>end_lat</th>\n",
       "      <th>end_lng</th>\n",
       "      <th>member_casual</th>\n",
       "      <th>ride_duration</th>\n",
       "      <th>biketype</th>\n",
       "    </tr>\n",
       "  </thead>\n",
       "  <tbody>\n",
       "    <tr>\n",
       "      <th>0</th>\n",
       "      <td>5CB9DFCECF79AF84</td>\n",
       "      <td>1</td>\n",
       "      <td>2021-01-01 00:08:33</td>\n",
       "      <td>2021-01-01 00:33:53</td>\n",
       "      <td>Maine Ave &amp; 9th St SW</td>\n",
       "      <td>31646.0</td>\n",
       "      <td>Rosslyn Metro / Wilson Blvd &amp; Ft Myer Dr</td>\n",
       "      <td>31015.0</td>\n",
       "      <td>38.880440</td>\n",
       "      <td>-77.025238</td>\n",
       "      <td>38.894600</td>\n",
       "      <td>-77.072304</td>\n",
       "      <td>0</td>\n",
       "      <td>0 days 00:25:20</td>\n",
       "      <td>classic_bike</td>\n",
       "    </tr>\n",
       "    <tr>\n",
       "      <th>1</th>\n",
       "      <td>629E059504606547</td>\n",
       "      <td>0</td>\n",
       "      <td>2021-01-01 00:13:43</td>\n",
       "      <td>2021-01-01 00:29:34</td>\n",
       "      <td>10th &amp; U St NW</td>\n",
       "      <td>31111.0</td>\n",
       "      <td>0</td>\n",
       "      <td>0.0</td>\n",
       "      <td>38.917194</td>\n",
       "      <td>-77.025894</td>\n",
       "      <td>38.959999</td>\n",
       "      <td>-77.019997</td>\n",
       "      <td>1</td>\n",
       "      <td>0 days 00:15:51</td>\n",
       "      <td>electric_bike</td>\n",
       "    </tr>\n",
       "    <tr>\n",
       "      <th>2</th>\n",
       "      <td>E74069873161EE33</td>\n",
       "      <td>0</td>\n",
       "      <td>2021-01-01 00:14:32</td>\n",
       "      <td>2021-01-01 00:28:45</td>\n",
       "      <td>17th &amp; Corcoran St NW</td>\n",
       "      <td>31214.0</td>\n",
       "      <td>14th &amp; Belmont St NW</td>\n",
       "      <td>31119.0</td>\n",
       "      <td>38.912136</td>\n",
       "      <td>-77.038567</td>\n",
       "      <td>38.920872</td>\n",
       "      <td>-77.031693</td>\n",
       "      <td>0</td>\n",
       "      <td>0 days 00:14:13</td>\n",
       "      <td>electric_bike</td>\n",
       "    </tr>\n",
       "    <tr>\n",
       "      <th>3</th>\n",
       "      <td>91F95E512CABC46A</td>\n",
       "      <td>1</td>\n",
       "      <td>2021-01-01 00:15:45</td>\n",
       "      <td>2021-01-01 00:21:20</td>\n",
       "      <td>Wilson Blvd. &amp; N. Vermont St.</td>\n",
       "      <td>31926.0</td>\n",
       "      <td>Wilson Blvd. &amp; N. Vermont St.</td>\n",
       "      <td>31926.0</td>\n",
       "      <td>38.879478</td>\n",
       "      <td>-77.114563</td>\n",
       "      <td>38.879478</td>\n",
       "      <td>-77.114563</td>\n",
       "      <td>0</td>\n",
       "      <td>0 days 00:05:35</td>\n",
       "      <td>classic_bike</td>\n",
       "    </tr>\n",
       "    <tr>\n",
       "      <th>4</th>\n",
       "      <td>DA46A05139C0EA2F</td>\n",
       "      <td>1</td>\n",
       "      <td>2021-01-01 00:17:46</td>\n",
       "      <td>2021-01-01 00:21:00</td>\n",
       "      <td>11th &amp; Park Rd NW</td>\n",
       "      <td>31651.0</td>\n",
       "      <td>14th &amp; Newton St NW</td>\n",
       "      <td>31649.0</td>\n",
       "      <td>38.931320</td>\n",
       "      <td>-77.028244</td>\n",
       "      <td>38.931992</td>\n",
       "      <td>-77.032959</td>\n",
       "      <td>0</td>\n",
       "      <td>0 days 00:03:14</td>\n",
       "      <td>classic_bike</td>\n",
       "    </tr>\n",
       "  </tbody>\n",
       "</table>\n",
       "</div>"
      ],
      "text/plain": [
       "            ride_id  rideable_type          started_at            ended_at  \\\n",
       "0  5CB9DFCECF79AF84              1 2021-01-01 00:08:33 2021-01-01 00:33:53   \n",
       "1  629E059504606547              0 2021-01-01 00:13:43 2021-01-01 00:29:34   \n",
       "2  E74069873161EE33              0 2021-01-01 00:14:32 2021-01-01 00:28:45   \n",
       "3  91F95E512CABC46A              1 2021-01-01 00:15:45 2021-01-01 00:21:20   \n",
       "4  DA46A05139C0EA2F              1 2021-01-01 00:17:46 2021-01-01 00:21:00   \n",
       "\n",
       "              start_station_name  start_station_id  \\\n",
       "0          Maine Ave & 9th St SW           31646.0   \n",
       "1                 10th & U St NW           31111.0   \n",
       "2          17th & Corcoran St NW           31214.0   \n",
       "3  Wilson Blvd. & N. Vermont St.           31926.0   \n",
       "4              11th & Park Rd NW           31651.0   \n",
       "\n",
       "                           end_station_name  end_station_id  start_lat  \\\n",
       "0  Rosslyn Metro / Wilson Blvd & Ft Myer Dr         31015.0  38.880440   \n",
       "1                                         0             0.0  38.917194   \n",
       "2                      14th & Belmont St NW         31119.0  38.912136   \n",
       "3             Wilson Blvd. & N. Vermont St.         31926.0  38.879478   \n",
       "4                       14th & Newton St NW         31649.0  38.931320   \n",
       "\n",
       "   start_lng    end_lat    end_lng  member_casual   ride_duration  \\\n",
       "0 -77.025238  38.894600 -77.072304              0 0 days 00:25:20   \n",
       "1 -77.025894  38.959999 -77.019997              1 0 days 00:15:51   \n",
       "2 -77.038567  38.920872 -77.031693              0 0 days 00:14:13   \n",
       "3 -77.114563  38.879478 -77.114563              0 0 days 00:05:35   \n",
       "4 -77.028244  38.931992 -77.032959              0 0 days 00:03:14   \n",
       "\n",
       "        biketype  \n",
       "0   classic_bike  \n",
       "1  electric_bike  \n",
       "2  electric_bike  \n",
       "3   classic_bike  \n",
       "4   classic_bike  "
      ]
     },
     "execution_count": 25,
     "metadata": {},
     "output_type": "execute_result"
    }
   ],
   "source": [
    "bbp.head()"
   ]
  },
  {
   "cell_type": "code",
   "execution_count": null,
   "metadata": {},
   "outputs": [],
   "source": [
    "sns.lineplot(data=bbp, x=)"
   ]
  },
  {
   "cell_type": "code",
   "execution_count": 11,
   "metadata": {},
   "outputs": [],
   "source": [
    "def assign_biketype(row):\n",
    "    rt = row['rideable_type']\n",
    "    if rt == 0:\n",
    "        return 'electric_bike'\n",
    "    elif 1:\n",
    "        return 'classic_bike'\n",
    "    else:\n",
    "        return 'docked_bike'\n",
    "\n",
    "    \n"
   ]
  },
  {
   "cell_type": "code",
   "execution_count": 12,
   "metadata": {},
   "outputs": [],
   "source": [
    "bbp['biketype'] = bbp.apply(assign_biketype, axis=1)\n"
   ]
  },
  {
   "cell_type": "code",
   "execution_count": 13,
   "metadata": {},
   "outputs": [
    {
     "data": {
      "text/html": [
       "<div>\n",
       "<style scoped>\n",
       "    .dataframe tbody tr th:only-of-type {\n",
       "        vertical-align: middle;\n",
       "    }\n",
       "\n",
       "    .dataframe tbody tr th {\n",
       "        vertical-align: top;\n",
       "    }\n",
       "\n",
       "    .dataframe thead th {\n",
       "        text-align: right;\n",
       "    }\n",
       "</style>\n",
       "<table border=\"1\" class=\"dataframe\">\n",
       "  <thead>\n",
       "    <tr style=\"text-align: right;\">\n",
       "      <th></th>\n",
       "      <th>ride_id</th>\n",
       "      <th>rideable_type</th>\n",
       "      <th>started_at</th>\n",
       "      <th>ended_at</th>\n",
       "      <th>start_station_name</th>\n",
       "      <th>start_station_id</th>\n",
       "      <th>end_station_name</th>\n",
       "      <th>end_station_id</th>\n",
       "      <th>start_lat</th>\n",
       "      <th>start_lng</th>\n",
       "      <th>end_lat</th>\n",
       "      <th>end_lng</th>\n",
       "      <th>member_casual</th>\n",
       "      <th>ride_duration</th>\n",
       "      <th>biketype</th>\n",
       "    </tr>\n",
       "  </thead>\n",
       "  <tbody>\n",
       "    <tr>\n",
       "      <th>0</th>\n",
       "      <td>5CB9DFCECF79AF84</td>\n",
       "      <td>1</td>\n",
       "      <td>2021-01-01 00:08:33</td>\n",
       "      <td>2021-01-01 00:33:53</td>\n",
       "      <td>Maine Ave &amp; 9th St SW</td>\n",
       "      <td>31646.0</td>\n",
       "      <td>Rosslyn Metro / Wilson Blvd &amp; Ft Myer Dr</td>\n",
       "      <td>31015.0</td>\n",
       "      <td>38.880440</td>\n",
       "      <td>-77.025238</td>\n",
       "      <td>38.894600</td>\n",
       "      <td>-77.072304</td>\n",
       "      <td>0</td>\n",
       "      <td>0 days 00:25:20</td>\n",
       "      <td>classic_bike</td>\n",
       "    </tr>\n",
       "    <tr>\n",
       "      <th>1</th>\n",
       "      <td>629E059504606547</td>\n",
       "      <td>0</td>\n",
       "      <td>2021-01-01 00:13:43</td>\n",
       "      <td>2021-01-01 00:29:34</td>\n",
       "      <td>10th &amp; U St NW</td>\n",
       "      <td>31111.0</td>\n",
       "      <td>0</td>\n",
       "      <td>0.0</td>\n",
       "      <td>38.917194</td>\n",
       "      <td>-77.025894</td>\n",
       "      <td>38.959999</td>\n",
       "      <td>-77.019997</td>\n",
       "      <td>1</td>\n",
       "      <td>0 days 00:15:51</td>\n",
       "      <td>electric_bike</td>\n",
       "    </tr>\n",
       "    <tr>\n",
       "      <th>2</th>\n",
       "      <td>E74069873161EE33</td>\n",
       "      <td>0</td>\n",
       "      <td>2021-01-01 00:14:32</td>\n",
       "      <td>2021-01-01 00:28:45</td>\n",
       "      <td>17th &amp; Corcoran St NW</td>\n",
       "      <td>31214.0</td>\n",
       "      <td>14th &amp; Belmont St NW</td>\n",
       "      <td>31119.0</td>\n",
       "      <td>38.912136</td>\n",
       "      <td>-77.038567</td>\n",
       "      <td>38.920872</td>\n",
       "      <td>-77.031693</td>\n",
       "      <td>0</td>\n",
       "      <td>0 days 00:14:13</td>\n",
       "      <td>electric_bike</td>\n",
       "    </tr>\n",
       "    <tr>\n",
       "      <th>3</th>\n",
       "      <td>91F95E512CABC46A</td>\n",
       "      <td>1</td>\n",
       "      <td>2021-01-01 00:15:45</td>\n",
       "      <td>2021-01-01 00:21:20</td>\n",
       "      <td>Wilson Blvd. &amp; N. Vermont St.</td>\n",
       "      <td>31926.0</td>\n",
       "      <td>Wilson Blvd. &amp; N. Vermont St.</td>\n",
       "      <td>31926.0</td>\n",
       "      <td>38.879478</td>\n",
       "      <td>-77.114563</td>\n",
       "      <td>38.879478</td>\n",
       "      <td>-77.114563</td>\n",
       "      <td>0</td>\n",
       "      <td>0 days 00:05:35</td>\n",
       "      <td>classic_bike</td>\n",
       "    </tr>\n",
       "    <tr>\n",
       "      <th>4</th>\n",
       "      <td>DA46A05139C0EA2F</td>\n",
       "      <td>1</td>\n",
       "      <td>2021-01-01 00:17:46</td>\n",
       "      <td>2021-01-01 00:21:00</td>\n",
       "      <td>11th &amp; Park Rd NW</td>\n",
       "      <td>31651.0</td>\n",
       "      <td>14th &amp; Newton St NW</td>\n",
       "      <td>31649.0</td>\n",
       "      <td>38.931320</td>\n",
       "      <td>-77.028244</td>\n",
       "      <td>38.931992</td>\n",
       "      <td>-77.032959</td>\n",
       "      <td>0</td>\n",
       "      <td>0 days 00:03:14</td>\n",
       "      <td>classic_bike</td>\n",
       "    </tr>\n",
       "  </tbody>\n",
       "</table>\n",
       "</div>"
      ],
      "text/plain": [
       "            ride_id  rideable_type          started_at            ended_at  \\\n",
       "0  5CB9DFCECF79AF84              1 2021-01-01 00:08:33 2021-01-01 00:33:53   \n",
       "1  629E059504606547              0 2021-01-01 00:13:43 2021-01-01 00:29:34   \n",
       "2  E74069873161EE33              0 2021-01-01 00:14:32 2021-01-01 00:28:45   \n",
       "3  91F95E512CABC46A              1 2021-01-01 00:15:45 2021-01-01 00:21:20   \n",
       "4  DA46A05139C0EA2F              1 2021-01-01 00:17:46 2021-01-01 00:21:00   \n",
       "\n",
       "              start_station_name  start_station_id  \\\n",
       "0          Maine Ave & 9th St SW           31646.0   \n",
       "1                 10th & U St NW           31111.0   \n",
       "2          17th & Corcoran St NW           31214.0   \n",
       "3  Wilson Blvd. & N. Vermont St.           31926.0   \n",
       "4              11th & Park Rd NW           31651.0   \n",
       "\n",
       "                           end_station_name  end_station_id  start_lat  \\\n",
       "0  Rosslyn Metro / Wilson Blvd & Ft Myer Dr         31015.0  38.880440   \n",
       "1                                         0             0.0  38.917194   \n",
       "2                      14th & Belmont St NW         31119.0  38.912136   \n",
       "3             Wilson Blvd. & N. Vermont St.         31926.0  38.879478   \n",
       "4                       14th & Newton St NW         31649.0  38.931320   \n",
       "\n",
       "   start_lng    end_lat    end_lng  member_casual    ride_duration  \\\n",
       "0 -77.025238  38.894600 -77.072304              0  0 days 00:25:20   \n",
       "1 -77.025894  38.959999 -77.019997              1  0 days 00:15:51   \n",
       "2 -77.038567  38.920872 -77.031693              0  0 days 00:14:13   \n",
       "3 -77.114563  38.879478 -77.114563              0  0 days 00:05:35   \n",
       "4 -77.028244  38.931992 -77.032959              0  0 days 00:03:14   \n",
       "\n",
       "        biketype  \n",
       "0   classic_bike  \n",
       "1  electric_bike  \n",
       "2  electric_bike  \n",
       "3   classic_bike  \n",
       "4   classic_bike  "
      ]
     },
     "execution_count": 13,
     "metadata": {},
     "output_type": "execute_result"
    }
   ],
   "source": [
    "bbp.head()"
   ]
  },
  {
   "cell_type": "code",
   "execution_count": null,
   "metadata": {},
   "outputs": [],
   "source": [
    "bbp['rideable_type'] = bbp['rideable_type'].apply(lambda x: 0\n",
    "if x == 'electric_bike' else 1 if x == 'classic_bike' else 2)\n",
    "\n",
    "#electr_bike = 0,classic = 1 and docked = 2\n"
   ]
  },
  {
   "cell_type": "code",
   "execution_count": 6,
   "metadata": {},
   "outputs": [
    {
     "data": {
      "text/plain": [
       "ride_id                       object\n",
       "rideable_type                   int8\n",
       "started_at            datetime64[ns]\n",
       "ended_at              datetime64[ns]\n",
       "start_station_name            object\n",
       "start_station_id             float64\n",
       "end_station_name              object\n",
       "end_station_id               float64\n",
       "start_lat                    float32\n",
       "start_lng                    float32\n",
       "end_lat                      float32\n",
       "end_lng                      float32\n",
       "member_casual                   int8\n",
       "ride_duration                 object\n",
       "dtype: object"
      ]
     },
     "execution_count": 6,
     "metadata": {},
     "output_type": "execute_result"
    }
   ],
   "source": [
    "bbp.dtypes"
   ]
  },
  {
   "cell_type": "code",
   "execution_count": 7,
   "metadata": {},
   "outputs": [
    {
     "data": {
      "text/plain": [
       "(10000, 14)"
      ]
     },
     "execution_count": 7,
     "metadata": {},
     "output_type": "execute_result"
    }
   ],
   "source": [
    "bbp.shape"
   ]
  },
  {
   "cell_type": "code",
   "execution_count": null,
   "metadata": {},
   "outputs": [],
   "source": [
    "#for chunk in pd.read_csv(bbp, chunksize=4):\n",
    "    #print(chunk.loc[0, \"start_station_name \"]) "
   ]
  },
  {
   "cell_type": "code",
   "execution_count": 4,
   "metadata": {},
   "outputs": [],
   "source": [
    "#bbp.drop(['Unnamed: 0.2', 'Unnamed: 0.1', 'Unnamed: 0'], axis=1, inplace=True)\n",
    "#in case of saving to new version, never forget index=False"
   ]
  },
  {
   "cell_type": "markdown",
   "metadata": {},
   "source": [
    "encoding bike types and minimizing memory usage"
   ]
  },
  {
   "cell_type": "code",
   "execution_count": 8,
   "metadata": {},
   "outputs": [],
   "source": [
    "bbp['rideable_type'] = bbp['rideable_type'].apply(lambda x: 0\n",
    "if x == 'electric_bike' else 1 if x == 'classic_bike' else 2)\n",
    "\n",
    "#electr_bike = 0,classic = 1 and docked = 2\n"
   ]
  },
  {
   "cell_type": "markdown",
   "metadata": {},
   "source": [
    "encoding member status to 1 or 0, whereas member = 0, and casual = 1 plus downsizing dtypes"
   ]
  },
  {
   "cell_type": "code",
   "execution_count": 5,
   "metadata": {},
   "outputs": [],
   "source": [
    "#bbp['member_casual'] = bbp['member_casual'].apply(lambda x: 0\n",
    "#if x == 'member' else 1)\n",
    "#member = 0, casual = 1\n",
    "\n",
    "#electr_bike = 0,classic = 1 and docked = 2\n",
    "bbp['member_casual'] = bbp['member_casual'].astype('int8')\n",
    "bbp[['start_lng', 'start_lat']] = bbp[['start_lng', 'start_lat']].astype('float32')\n",
    "bbp[['end_lng', 'end_lat']] = bbp[['end_lng', 'end_lat']].astype('float32')\n",
    "bbp['rideable_type'] = bbp['rideable_type'].astype('int8')\n",
    "\n",
    "\n"
   ]
  },
  {
   "cell_type": "markdown",
   "metadata": {},
   "source": [
    "convert to datetime"
   ]
  },
  {
   "cell_type": "code",
   "execution_count": 4,
   "metadata": {},
   "outputs": [],
   "source": [
    "bbp['started_at'] = pd.to_datetime(bbp['started_at'])\n",
    "bbp['ended_at'] = pd.to_datetime(bbp['ended_at'])\n"
   ]
  },
  {
   "cell_type": "markdown",
   "metadata": {},
   "source": [
    "Data cleaning, detecting missing or non values and dropping or replacing them"
   ]
  },
  {
   "cell_type": "code",
   "execution_count": null,
   "metadata": {},
   "outputs": [],
   "source": [
    "#bbp.loc[bbp['start_lng'].isna()].dropna(inplace=True)\n",
    "#bbp.dropna(subset=['start_lng', 'start_lat'], inplace=True)"
   ]
  },
  {
   "cell_type": "code",
   "execution_count": 21,
   "metadata": {},
   "outputs": [],
   "source": [
    "#bbp.loc[bbp['rideable_type'] == 2] = bbp[bbp['rideable_type'] == 2].fillna(-2)\n",
    "#filtered_elec[filtered_elec.isna()]"
   ]
  },
  {
   "cell_type": "code",
   "execution_count": 22,
   "metadata": {},
   "outputs": [],
   "source": [
    "#bbp.loc[bbp['rideable_type'] == 1] = bbp[bbp['rideable_type'] == 1].fillna(-1)\n",
    "#filtered_elec[filtered_elec.isna()]"
   ]
  },
  {
   "cell_type": "code",
   "execution_count": 23,
   "metadata": {},
   "outputs": [],
   "source": [
    "#bbp.loc[bbp['rideable_type'] == 0] = bbp[bbp['rideable_type'] == 0].fillna(0)\n",
    "#filtered_elec[filtered_elec.isna()]"
   ]
  },
  {
   "cell_type": "code",
   "execution_count": 74,
   "metadata": {},
   "outputs": [],
   "source": [
    "#creation of new column to calculate the total ride duration\n",
    "#bbp['ride_duration'] = bbp.ended_at - bbp.started_at\n"
   ]
  },
  {
   "cell_type": "code",
   "execution_count": 66,
   "metadata": {},
   "outputs": [],
   "source": [
    "#bbp.loc[bbp['end_station_id'].isna()]"
   ]
  },
  {
   "cell_type": "code",
   "execution_count": null,
   "metadata": {},
   "outputs": [],
   "source": [
    "#bbp.loc[bbp['start_lng'].isna()].dropna(inplace=True)\n",
    "#bbp.dropna(subset=['start_lng', 'start_lat'], inplace=True)"
   ]
  },
  {
   "cell_type": "code",
   "execution_count": null,
   "metadata": {},
   "outputs": [],
   "source": [
    "#bbp.loc[bbp['start_lng'].isna()] = bbp.loc[bbp['start_lng'].isna()].dropna()\n",
    "#bbp.loc[bbp['start_lng'].isna()]"
   ]
  },
  {
   "cell_type": "code",
   "execution_count": 12,
   "metadata": {},
   "outputs": [
    {
     "ename": "ValueError",
     "evalue": "could not convert string to float: 'MTL-ECO5-03'",
     "output_type": "error",
     "traceback": [
      "\u001b[1;31m---------------------------------------------------------------------------\u001b[0m",
      "\u001b[1;31mValueError\u001b[0m                                Traceback (most recent call last)",
      "Cell \u001b[1;32mIn[12], line 1\u001b[0m\n\u001b[1;32m----> 1\u001b[0m bbp[[\u001b[38;5;124m'\u001b[39m\u001b[38;5;124mstart_station_id\u001b[39m\u001b[38;5;124m'\u001b[39m, \u001b[38;5;124m'\u001b[39m\u001b[38;5;124mend_station_id\u001b[39m\u001b[38;5;124m'\u001b[39m]] \u001b[38;5;241m=\u001b[39m \u001b[43mbbp\u001b[49m\u001b[43m[\u001b[49m\u001b[43m[\u001b[49m\u001b[38;5;124;43m'\u001b[39;49m\u001b[38;5;124;43mstart_station_id\u001b[39;49m\u001b[38;5;124;43m'\u001b[39;49m\u001b[43m,\u001b[49m\u001b[43m \u001b[49m\u001b[38;5;124;43m'\u001b[39;49m\u001b[38;5;124;43mend_station_id\u001b[39;49m\u001b[38;5;124;43m'\u001b[39;49m\u001b[43m]\u001b[49m\u001b[43m]\u001b[49m\u001b[38;5;241;43m.\u001b[39;49m\u001b[43mastype\u001b[49m\u001b[43m(\u001b[49m\u001b[38;5;124;43m'\u001b[39;49m\u001b[38;5;124;43mfloat32\u001b[39;49m\u001b[38;5;124;43m'\u001b[39;49m\u001b[43m)\u001b[49m\n",
      "File \u001b[1;32mc:\\Users\\media\\anaconda3\\envs\\My_environment\\Lib\\site-packages\\pandas\\core\\generic.py:6643\u001b[0m, in \u001b[0;36mNDFrame.astype\u001b[1;34m(self, dtype, copy, errors)\u001b[0m\n\u001b[0;32m   6637\u001b[0m     results \u001b[38;5;241m=\u001b[39m [\n\u001b[0;32m   6638\u001b[0m         ser\u001b[38;5;241m.\u001b[39mastype(dtype, copy\u001b[38;5;241m=\u001b[39mcopy, errors\u001b[38;5;241m=\u001b[39merrors) \u001b[38;5;28;01mfor\u001b[39;00m _, ser \u001b[38;5;129;01min\u001b[39;00m \u001b[38;5;28mself\u001b[39m\u001b[38;5;241m.\u001b[39mitems()\n\u001b[0;32m   6639\u001b[0m     ]\n\u001b[0;32m   6641\u001b[0m \u001b[38;5;28;01melse\u001b[39;00m:\n\u001b[0;32m   6642\u001b[0m     \u001b[38;5;66;03m# else, only a single dtype is given\u001b[39;00m\n\u001b[1;32m-> 6643\u001b[0m     new_data \u001b[38;5;241m=\u001b[39m \u001b[38;5;28;43mself\u001b[39;49m\u001b[38;5;241;43m.\u001b[39;49m\u001b[43m_mgr\u001b[49m\u001b[38;5;241;43m.\u001b[39;49m\u001b[43mastype\u001b[49m\u001b[43m(\u001b[49m\u001b[43mdtype\u001b[49m\u001b[38;5;241;43m=\u001b[39;49m\u001b[43mdtype\u001b[49m\u001b[43m,\u001b[49m\u001b[43m \u001b[49m\u001b[43mcopy\u001b[49m\u001b[38;5;241;43m=\u001b[39;49m\u001b[43mcopy\u001b[49m\u001b[43m,\u001b[49m\u001b[43m \u001b[49m\u001b[43merrors\u001b[49m\u001b[38;5;241;43m=\u001b[39;49m\u001b[43merrors\u001b[49m\u001b[43m)\u001b[49m\n\u001b[0;32m   6644\u001b[0m     res \u001b[38;5;241m=\u001b[39m \u001b[38;5;28mself\u001b[39m\u001b[38;5;241m.\u001b[39m_constructor_from_mgr(new_data, axes\u001b[38;5;241m=\u001b[39mnew_data\u001b[38;5;241m.\u001b[39maxes)\n\u001b[0;32m   6645\u001b[0m     \u001b[38;5;28;01mreturn\u001b[39;00m res\u001b[38;5;241m.\u001b[39m__finalize__(\u001b[38;5;28mself\u001b[39m, method\u001b[38;5;241m=\u001b[39m\u001b[38;5;124m\"\u001b[39m\u001b[38;5;124mastype\u001b[39m\u001b[38;5;124m\"\u001b[39m)\n",
      "File \u001b[1;32mc:\\Users\\media\\anaconda3\\envs\\My_environment\\Lib\\site-packages\\pandas\\core\\internals\\managers.py:430\u001b[0m, in \u001b[0;36mBaseBlockManager.astype\u001b[1;34m(self, dtype, copy, errors)\u001b[0m\n\u001b[0;32m    427\u001b[0m \u001b[38;5;28;01melif\u001b[39;00m using_copy_on_write():\n\u001b[0;32m    428\u001b[0m     copy \u001b[38;5;241m=\u001b[39m \u001b[38;5;28;01mFalse\u001b[39;00m\n\u001b[1;32m--> 430\u001b[0m \u001b[38;5;28;01mreturn\u001b[39;00m \u001b[38;5;28;43mself\u001b[39;49m\u001b[38;5;241;43m.\u001b[39;49m\u001b[43mapply\u001b[49m\u001b[43m(\u001b[49m\n\u001b[0;32m    431\u001b[0m \u001b[43m    \u001b[49m\u001b[38;5;124;43m\"\u001b[39;49m\u001b[38;5;124;43mastype\u001b[39;49m\u001b[38;5;124;43m\"\u001b[39;49m\u001b[43m,\u001b[49m\n\u001b[0;32m    432\u001b[0m \u001b[43m    \u001b[49m\u001b[43mdtype\u001b[49m\u001b[38;5;241;43m=\u001b[39;49m\u001b[43mdtype\u001b[49m\u001b[43m,\u001b[49m\n\u001b[0;32m    433\u001b[0m \u001b[43m    \u001b[49m\u001b[43mcopy\u001b[49m\u001b[38;5;241;43m=\u001b[39;49m\u001b[43mcopy\u001b[49m\u001b[43m,\u001b[49m\n\u001b[0;32m    434\u001b[0m \u001b[43m    \u001b[49m\u001b[43merrors\u001b[49m\u001b[38;5;241;43m=\u001b[39;49m\u001b[43merrors\u001b[49m\u001b[43m,\u001b[49m\n\u001b[0;32m    435\u001b[0m \u001b[43m    \u001b[49m\u001b[43musing_cow\u001b[49m\u001b[38;5;241;43m=\u001b[39;49m\u001b[43musing_copy_on_write\u001b[49m\u001b[43m(\u001b[49m\u001b[43m)\u001b[49m\u001b[43m,\u001b[49m\n\u001b[0;32m    436\u001b[0m \u001b[43m\u001b[49m\u001b[43m)\u001b[49m\n",
      "File \u001b[1;32mc:\\Users\\media\\anaconda3\\envs\\My_environment\\Lib\\site-packages\\pandas\\core\\internals\\managers.py:363\u001b[0m, in \u001b[0;36mBaseBlockManager.apply\u001b[1;34m(self, f, align_keys, **kwargs)\u001b[0m\n\u001b[0;32m    361\u001b[0m         applied \u001b[38;5;241m=\u001b[39m b\u001b[38;5;241m.\u001b[39mapply(f, \u001b[38;5;241m*\u001b[39m\u001b[38;5;241m*\u001b[39mkwargs)\n\u001b[0;32m    362\u001b[0m     \u001b[38;5;28;01melse\u001b[39;00m:\n\u001b[1;32m--> 363\u001b[0m         applied \u001b[38;5;241m=\u001b[39m \u001b[38;5;28;43mgetattr\u001b[39;49m\u001b[43m(\u001b[49m\u001b[43mb\u001b[49m\u001b[43m,\u001b[49m\u001b[43m \u001b[49m\u001b[43mf\u001b[49m\u001b[43m)\u001b[49m\u001b[43m(\u001b[49m\u001b[38;5;241;43m*\u001b[39;49m\u001b[38;5;241;43m*\u001b[39;49m\u001b[43mkwargs\u001b[49m\u001b[43m)\u001b[49m\n\u001b[0;32m    364\u001b[0m     result_blocks \u001b[38;5;241m=\u001b[39m extend_blocks(applied, result_blocks)\n\u001b[0;32m    366\u001b[0m out \u001b[38;5;241m=\u001b[39m \u001b[38;5;28mtype\u001b[39m(\u001b[38;5;28mself\u001b[39m)\u001b[38;5;241m.\u001b[39mfrom_blocks(result_blocks, \u001b[38;5;28mself\u001b[39m\u001b[38;5;241m.\u001b[39maxes)\n",
      "File \u001b[1;32mc:\\Users\\media\\anaconda3\\envs\\My_environment\\Lib\\site-packages\\pandas\\core\\internals\\blocks.py:758\u001b[0m, in \u001b[0;36mBlock.astype\u001b[1;34m(self, dtype, copy, errors, using_cow, squeeze)\u001b[0m\n\u001b[0;32m    755\u001b[0m         \u001b[38;5;28;01mraise\u001b[39;00m \u001b[38;5;167;01mValueError\u001b[39;00m(\u001b[38;5;124m\"\u001b[39m\u001b[38;5;124mCan not squeeze with more than one column.\u001b[39m\u001b[38;5;124m\"\u001b[39m)\n\u001b[0;32m    756\u001b[0m     values \u001b[38;5;241m=\u001b[39m values[\u001b[38;5;241m0\u001b[39m, :]  \u001b[38;5;66;03m# type: ignore[call-overload]\u001b[39;00m\n\u001b[1;32m--> 758\u001b[0m new_values \u001b[38;5;241m=\u001b[39m \u001b[43mastype_array_safe\u001b[49m\u001b[43m(\u001b[49m\u001b[43mvalues\u001b[49m\u001b[43m,\u001b[49m\u001b[43m \u001b[49m\u001b[43mdtype\u001b[49m\u001b[43m,\u001b[49m\u001b[43m \u001b[49m\u001b[43mcopy\u001b[49m\u001b[38;5;241;43m=\u001b[39;49m\u001b[43mcopy\u001b[49m\u001b[43m,\u001b[49m\u001b[43m \u001b[49m\u001b[43merrors\u001b[49m\u001b[38;5;241;43m=\u001b[39;49m\u001b[43merrors\u001b[49m\u001b[43m)\u001b[49m\n\u001b[0;32m    760\u001b[0m new_values \u001b[38;5;241m=\u001b[39m maybe_coerce_values(new_values)\n\u001b[0;32m    762\u001b[0m refs \u001b[38;5;241m=\u001b[39m \u001b[38;5;28;01mNone\u001b[39;00m\n",
      "File \u001b[1;32mc:\\Users\\media\\anaconda3\\envs\\My_environment\\Lib\\site-packages\\pandas\\core\\dtypes\\astype.py:237\u001b[0m, in \u001b[0;36mastype_array_safe\u001b[1;34m(values, dtype, copy, errors)\u001b[0m\n\u001b[0;32m    234\u001b[0m     dtype \u001b[38;5;241m=\u001b[39m dtype\u001b[38;5;241m.\u001b[39mnumpy_dtype\n\u001b[0;32m    236\u001b[0m \u001b[38;5;28;01mtry\u001b[39;00m:\n\u001b[1;32m--> 237\u001b[0m     new_values \u001b[38;5;241m=\u001b[39m \u001b[43mastype_array\u001b[49m\u001b[43m(\u001b[49m\u001b[43mvalues\u001b[49m\u001b[43m,\u001b[49m\u001b[43m \u001b[49m\u001b[43mdtype\u001b[49m\u001b[43m,\u001b[49m\u001b[43m \u001b[49m\u001b[43mcopy\u001b[49m\u001b[38;5;241;43m=\u001b[39;49m\u001b[43mcopy\u001b[49m\u001b[43m)\u001b[49m\n\u001b[0;32m    238\u001b[0m \u001b[38;5;28;01mexcept\u001b[39;00m (\u001b[38;5;167;01mValueError\u001b[39;00m, \u001b[38;5;167;01mTypeError\u001b[39;00m):\n\u001b[0;32m    239\u001b[0m     \u001b[38;5;66;03m# e.g. _astype_nansafe can fail on object-dtype of strings\u001b[39;00m\n\u001b[0;32m    240\u001b[0m     \u001b[38;5;66;03m#  trying to convert to float\u001b[39;00m\n\u001b[0;32m    241\u001b[0m     \u001b[38;5;28;01mif\u001b[39;00m errors \u001b[38;5;241m==\u001b[39m \u001b[38;5;124m\"\u001b[39m\u001b[38;5;124mignore\u001b[39m\u001b[38;5;124m\"\u001b[39m:\n",
      "File \u001b[1;32mc:\\Users\\media\\anaconda3\\envs\\My_environment\\Lib\\site-packages\\pandas\\core\\dtypes\\astype.py:182\u001b[0m, in \u001b[0;36mastype_array\u001b[1;34m(values, dtype, copy)\u001b[0m\n\u001b[0;32m    179\u001b[0m     values \u001b[38;5;241m=\u001b[39m values\u001b[38;5;241m.\u001b[39mastype(dtype, copy\u001b[38;5;241m=\u001b[39mcopy)\n\u001b[0;32m    181\u001b[0m \u001b[38;5;28;01melse\u001b[39;00m:\n\u001b[1;32m--> 182\u001b[0m     values \u001b[38;5;241m=\u001b[39m \u001b[43m_astype_nansafe\u001b[49m\u001b[43m(\u001b[49m\u001b[43mvalues\u001b[49m\u001b[43m,\u001b[49m\u001b[43m \u001b[49m\u001b[43mdtype\u001b[49m\u001b[43m,\u001b[49m\u001b[43m \u001b[49m\u001b[43mcopy\u001b[49m\u001b[38;5;241;43m=\u001b[39;49m\u001b[43mcopy\u001b[49m\u001b[43m)\u001b[49m\n\u001b[0;32m    184\u001b[0m \u001b[38;5;66;03m# in pandas we don't store numpy str dtypes, so convert to object\u001b[39;00m\n\u001b[0;32m    185\u001b[0m \u001b[38;5;28;01mif\u001b[39;00m \u001b[38;5;28misinstance\u001b[39m(dtype, np\u001b[38;5;241m.\u001b[39mdtype) \u001b[38;5;129;01mand\u001b[39;00m \u001b[38;5;28missubclass\u001b[39m(values\u001b[38;5;241m.\u001b[39mdtype\u001b[38;5;241m.\u001b[39mtype, \u001b[38;5;28mstr\u001b[39m):\n",
      "File \u001b[1;32mc:\\Users\\media\\anaconda3\\envs\\My_environment\\Lib\\site-packages\\pandas\\core\\dtypes\\astype.py:133\u001b[0m, in \u001b[0;36m_astype_nansafe\u001b[1;34m(arr, dtype, copy, skipna)\u001b[0m\n\u001b[0;32m    129\u001b[0m     \u001b[38;5;28;01mraise\u001b[39;00m \u001b[38;5;167;01mValueError\u001b[39;00m(msg)\n\u001b[0;32m    131\u001b[0m \u001b[38;5;28;01mif\u001b[39;00m copy \u001b[38;5;129;01mor\u001b[39;00m arr\u001b[38;5;241m.\u001b[39mdtype \u001b[38;5;241m==\u001b[39m \u001b[38;5;28mobject\u001b[39m \u001b[38;5;129;01mor\u001b[39;00m dtype \u001b[38;5;241m==\u001b[39m \u001b[38;5;28mobject\u001b[39m:\n\u001b[0;32m    132\u001b[0m     \u001b[38;5;66;03m# Explicit copy, or required since NumPy can't view from / to object.\u001b[39;00m\n\u001b[1;32m--> 133\u001b[0m     \u001b[38;5;28;01mreturn\u001b[39;00m \u001b[43marr\u001b[49m\u001b[38;5;241;43m.\u001b[39;49m\u001b[43mastype\u001b[49m\u001b[43m(\u001b[49m\u001b[43mdtype\u001b[49m\u001b[43m,\u001b[49m\u001b[43m \u001b[49m\u001b[43mcopy\u001b[49m\u001b[38;5;241;43m=\u001b[39;49m\u001b[38;5;28;43;01mTrue\u001b[39;49;00m\u001b[43m)\u001b[49m\n\u001b[0;32m    135\u001b[0m \u001b[38;5;28;01mreturn\u001b[39;00m arr\u001b[38;5;241m.\u001b[39mastype(dtype, copy\u001b[38;5;241m=\u001b[39mcopy)\n",
      "\u001b[1;31mValueError\u001b[0m: could not convert string to float: 'MTL-ECO5-03'"
     ]
    }
   ],
   "source": [
    "bbp[['start_station_id', 'end_station_id']] = bbp[['start_station_id', 'end_station_id']].astype('float32')"
   ]
  },
  {
   "cell_type": "code",
   "execution_count": 62,
   "metadata": {},
   "outputs": [
    {
     "data": {
      "text/html": [
       "<div>\n",
       "<style scoped>\n",
       "    .dataframe tbody tr th:only-of-type {\n",
       "        vertical-align: middle;\n",
       "    }\n",
       "\n",
       "    .dataframe tbody tr th {\n",
       "        vertical-align: top;\n",
       "    }\n",
       "\n",
       "    .dataframe thead th {\n",
       "        text-align: right;\n",
       "    }\n",
       "</style>\n",
       "<table border=\"1\" class=\"dataframe\">\n",
       "  <thead>\n",
       "    <tr style=\"text-align: right;\">\n",
       "      <th></th>\n",
       "      <th>ride_id</th>\n",
       "      <th>rideable_type</th>\n",
       "      <th>started_at</th>\n",
       "      <th>ended_at</th>\n",
       "      <th>start_station_name</th>\n",
       "      <th>start_station_id</th>\n",
       "      <th>end_station_name</th>\n",
       "      <th>end_station_id</th>\n",
       "      <th>start_lat</th>\n",
       "      <th>start_lng</th>\n",
       "      <th>end_lat</th>\n",
       "      <th>end_lng</th>\n",
       "      <th>member_casual</th>\n",
       "    </tr>\n",
       "  </thead>\n",
       "  <tbody>\n",
       "    <tr>\n",
       "      <th>133129</th>\n",
       "      <td>76C50D7330BD4ECA</td>\n",
       "      <td>2</td>\n",
       "      <td>2021-02-12 17:04:26</td>\n",
       "      <td>2021-02-12 17:12:10</td>\n",
       "      <td>MTL-ECO5-03</td>\n",
       "      <td>MTL-ECO5-03</td>\n",
       "      <td>MTL-ECO5-03</td>\n",
       "      <td>MTL-ECO5-03</td>\n",
       "      <td>-2.0</td>\n",
       "      <td>-2.0</td>\n",
       "      <td>-2.0</td>\n",
       "      <td>-2.0</td>\n",
       "      <td>0</td>\n",
       "    </tr>\n",
       "    <tr>\n",
       "      <th>143000</th>\n",
       "      <td>E1808D56BF23C00F</td>\n",
       "      <td>2</td>\n",
       "      <td>2021-02-17 00:54:05</td>\n",
       "      <td>2021-02-17 00:54:17</td>\n",
       "      <td>MTL-ECO5-03</td>\n",
       "      <td>MTL-ECO5-03</td>\n",
       "      <td>MTL-ECO5-03</td>\n",
       "      <td>MTL-ECO5-03</td>\n",
       "      <td>-2.0</td>\n",
       "      <td>-2.0</td>\n",
       "      <td>-2.0</td>\n",
       "      <td>-2.0</td>\n",
       "      <td>0</td>\n",
       "    </tr>\n",
       "  </tbody>\n",
       "</table>\n",
       "</div>"
      ],
      "text/plain": [
       "                 ride_id  rideable_type          started_at  \\\n",
       "133129  76C50D7330BD4ECA              2 2021-02-12 17:04:26   \n",
       "143000  E1808D56BF23C00F              2 2021-02-17 00:54:05   \n",
       "\n",
       "                  ended_at start_station_name start_station_id  \\\n",
       "133129 2021-02-12 17:12:10        MTL-ECO5-03      MTL-ECO5-03   \n",
       "143000 2021-02-17 00:54:17        MTL-ECO5-03      MTL-ECO5-03   \n",
       "\n",
       "       end_station_name end_station_id  start_lat  start_lng  end_lat  \\\n",
       "133129      MTL-ECO5-03    MTL-ECO5-03       -2.0       -2.0     -2.0   \n",
       "143000      MTL-ECO5-03    MTL-ECO5-03       -2.0       -2.0     -2.0   \n",
       "\n",
       "        end_lng  member_casual  \n",
       "133129     -2.0              0  \n",
       "143000     -2.0              0  "
      ]
     },
     "execution_count": 62,
     "metadata": {},
     "output_type": "execute_result"
    }
   ],
   "source": [
    "bbp.loc[(bbp['start_station_id'] == 'MTL-ECO5-03') | (bbp['end_station_id'] == 'MTL-ECO5-03')]"
   ]
  },
  {
   "cell_type": "code",
   "execution_count": 16,
   "metadata": {},
   "outputs": [
    {
     "ename": "TypeError",
     "evalue": "'DataFrame' object is not callable",
     "output_type": "error",
     "traceback": [
      "\u001b[1;31m---------------------------------------------------------------------------\u001b[0m",
      "\u001b[1;31mTypeError\u001b[0m                                 Traceback (most recent call last)",
      "Cell \u001b[1;32mIn[16], line 1\u001b[0m\n\u001b[1;32m----> 1\u001b[0m bbp\u001b[38;5;241m.\u001b[39mdrop(\u001b[43mbbp\u001b[49m\u001b[43m(\u001b[49m\u001b[43mbbp\u001b[49m\u001b[43m[\u001b[49m\u001b[38;5;124;43m'\u001b[39;49m\u001b[38;5;124;43mstart_station_id\u001b[39;49m\u001b[38;5;124;43m'\u001b[39;49m\u001b[43m]\u001b[49m\u001b[43m,\u001b[49m\u001b[43m[\u001b[49m\u001b[38;5;124;43m'\u001b[39;49m\u001b[38;5;124;43mstart_station_name\u001b[39;49m\u001b[38;5;124;43m'\u001b[39;49m\u001b[43m]\u001b[49m\u001b[43m,\u001b[49m\u001b[43m[\u001b[49m\u001b[38;5;124;43m'\u001b[39;49m\u001b[38;5;124;43mend_station_name\u001b[39;49m\u001b[38;5;124;43m'\u001b[39;49m\u001b[43m,\u001b[49m\u001b[38;5;124;43m'\u001b[39;49m\u001b[38;5;124;43mend_station_id\u001b[39;49m\u001b[38;5;124;43m'\u001b[39;49m\u001b[43m]\u001b[49m\u001b[43m \u001b[49m\u001b[38;5;241;43m==\u001b[39;49m\u001b[43m \u001b[49m\u001b[38;5;124;43m'\u001b[39;49m\u001b[38;5;124;43mMTL-ECO5-03\u001b[39;49m\u001b[38;5;124;43m'\u001b[39;49m\u001b[43m \u001b[49m\u001b[43m)\u001b[49m)\n",
      "\u001b[1;31mTypeError\u001b[0m: 'DataFrame' object is not callable"
     ]
    }
   ],
   "source": [
    "bbp.drop(bbp(bbp['start_station_id'],['start_station_name'],['end_station_name','end_station_id'] == 'MTL-ECO5-03' ))"
   ]
  },
  {
   "cell_type": "code",
   "execution_count": 10,
   "metadata": {},
   "outputs": [],
   "source": [
    "#bbp.to_csv('CBS_2021-2023_Full_new.csv', index=False)"
   ]
  }
 ],
 "metadata": {
  "kernelspec": {
   "display_name": "My_environment",
   "language": "python",
   "name": "python3"
  },
  "language_info": {
   "codemirror_mode": {
    "name": "ipython",
    "version": 3
   },
   "file_extension": ".py",
   "mimetype": "text/x-python",
   "name": "python",
   "nbconvert_exporter": "python",
   "pygments_lexer": "ipython3",
   "version": "3.12.4"
  }
 },
 "nbformat": 4,
 "nbformat_minor": 2
}
