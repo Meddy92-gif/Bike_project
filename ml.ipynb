{
 "cells": [
  {
   "cell_type": "code",
   "execution_count": null,
   "metadata": {},
   "outputs": [],
   "source": [
    "\n",
    "\n",
    "# Define your features (X) and target (y)\n",
    "X = bdw[['temperature_2m_mean (°C)']]    # Dependent variable\n",
    "y = bdw[['Total_rides']]  # Independent variable(s)\n",
    "\n",
    "\n"
   ]
  }
 ],
 "metadata": {
  "language_info": {
   "name": "python"
  }
 },
 "nbformat": 4,
 "nbformat_minor": 2
}
